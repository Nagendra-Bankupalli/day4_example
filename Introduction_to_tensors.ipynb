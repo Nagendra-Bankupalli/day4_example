{
  "nbformat": 4,
  "nbformat_minor": 0,
  "metadata": {
    "colab": {
      "provenance": [],
      "gpuType": "T4",
      "authorship_tag": "ABX9TyO1O2TQ8p5VCw6Db2/y07cb",
      "include_colab_link": true
    },
    "kernelspec": {
      "name": "python3",
      "display_name": "Python 3"
    },
    "language_info": {
      "name": "python"
    },
    "accelerator": "GPU"
  },
  "cells": [
    {
      "cell_type": "markdown",
      "metadata": {
        "id": "view-in-github",
        "colab_type": "text"
      },
      "source": [
        "<a href=\"https://colab.research.google.com/github/Nagendra-Bankupalli/day4_example/blob/main/Introduction_to_tensors.ipynb\" target=\"_parent\"><img src=\"https://colab.research.google.com/assets/colab-badge.svg\" alt=\"Open In Colab\"/></a>"
      ]
    },
    {
      "cell_type": "code",
      "execution_count": 2,
      "metadata": {
        "id": "4DrEmpAuGuDg"
      },
      "outputs": [],
      "source": [
        "import torch"
      ]
    },
    {
      "cell_type": "code",
      "source": [
        "# creating tensor\n",
        "# scalear tensor => 0 dimention tensor is called scaler tensor\n",
        "\n",
        "\n",
        "scalar = torch.tensor(42)\n",
        "print(\"scalar tensor is : \", scalar )\n",
        "print(\"scalar dimention is : \" , scalar.ndim)\n",
        "print(\"shape of scalar tensor \", scalar.shape)\n"
      ],
      "metadata": {
        "colab": {
          "base_uri": "https://localhost:8080/"
        },
        "id": "fsEA98VYHRwh",
        "outputId": "8296e3d3-67f5-4288-a41e-7379cab856d7"
      },
      "execution_count": 4,
      "outputs": [
        {
          "output_type": "stream",
          "name": "stdout",
          "text": [
            "scalar tensor is :  tensor(42)\n",
            "scalar dimention is :  0\n",
            "shape of scalar tensor  torch.Size([])\n"
          ]
        }
      ]
    },
    {
      "cell_type": "code",
      "source": [
        "# 1 D tensor => called vector\n",
        "vector = torch.tensor([1,2,3])\n",
        "\n",
        "\n",
        "print(\"vector tensor is : \", vector )\n",
        "print(\"vector dimention is : \" , vector.ndim)\n",
        "print(\"shape of vector tensor \", vector.shape)\n"
      ],
      "metadata": {
        "colab": {
          "base_uri": "https://localhost:8080/"
        },
        "id": "u0fZfd2sJlw4",
        "outputId": "5ad1acce-0cf4-4ace-a614-75c2b045cf9f"
      },
      "execution_count": 5,
      "outputs": [
        {
          "output_type": "stream",
          "name": "stdout",
          "text": [
            "vector tensor is :  tensor([1, 2, 3])\n",
            "vector dimention is :  1\n",
            "shape of vector tensor  torch.Size([3])\n"
          ]
        }
      ]
    },
    {
      "cell_type": "code",
      "source": [
        "# 2D tensor => Matrix\n",
        "\n",
        "matrix = torch.tensor([[1.,2.], [3,4]])\n",
        "\n",
        "print(\"matrix tensor is : \", matrix )\n",
        "print(\"matrix dimention is : \" , matrix.ndim)\n",
        "print(\"shape of vematrix tensor \", matrix.shape)\n"
      ],
      "metadata": {
        "colab": {
          "base_uri": "https://localhost:8080/"
        },
        "id": "1m7qisnCJ6pX",
        "outputId": "9c04b69d-9b36-4a82-d00e-f060c888cb0e"
      },
      "execution_count": 12,
      "outputs": [
        {
          "output_type": "stream",
          "name": "stdout",
          "text": [
            "matrix tensor is :  tensor([[1., 2.],\n",
            "        [3., 4.]])\n",
            "matrix dimention is :  2\n",
            "shape of vematrix tensor  torch.Size([2, 2])\n"
          ]
        }
      ]
    },
    {
      "cell_type": "code",
      "source": [
        "# 3D tensor => more than 2D\n",
        "\n",
        "tensor3d = torch.tensor([\n",
        "                      [[1,2], [3,4]],\n",
        "                      [[1,2], [3,4]],\n",
        "                      ])\n",
        "\n",
        "print(\"tensor3d tensor is : \", tensor3d )\n",
        "print(\"tensor3d dimention is : \" , tensor3d.ndim)\n",
        "print(\"shape of tensor3d tensor \", tensor3d.shape)"
      ],
      "metadata": {
        "colab": {
          "base_uri": "https://localhost:8080/"
        },
        "id": "0xYmAt4dKTlb",
        "outputId": "5a4a1341-5e00-4d85-ed15-15c359a4ec7d"
      },
      "execution_count": 8,
      "outputs": [
        {
          "output_type": "stream",
          "name": "stdout",
          "text": [
            "tensor3d tensor is :  tensor([[[1, 2],\n",
            "         [3, 4]],\n",
            "\n",
            "        [[1, 2],\n",
            "         [3, 4]]])\n",
            "tensor3d dimention is :  3\n",
            "shape of tensor3d tensor  torch.Size([2, 2, 2])\n"
          ]
        }
      ]
    },
    {
      "cell_type": "code",
      "source": [
        "# GPU acceleration check\n",
        "\n",
        "if torch.cuda.is_available():\n",
        "  gpu_tensor = vector.to('cuda')\n",
        "  print(\"tensor on gpu:\", gpu_tensor)\n",
        "else:\n",
        "  print(\"cuda is not available on this machine\")"
      ],
      "metadata": {
        "colab": {
          "base_uri": "https://localhost:8080/"
        },
        "id": "khEB03xmLMb4",
        "outputId": "38a004c9-f49c-4081-8b8d-dddd7bf001ac"
      },
      "execution_count": 10,
      "outputs": [
        {
          "output_type": "stream",
          "name": "stdout",
          "text": [
            "tensor on gpu: tensor([1, 2, 3], device='cuda:0')\n"
          ]
        }
      ]
    },
    {
      "cell_type": "code",
      "source": [
        "# tensor properties\n",
        "\n",
        "print(\"data type of matrix \", matrix.dtype)\n",
        "\n",
        "# check device of tensor CUP or GPU\n",
        "print(\"tensor device CPU\", vector.device)\n",
        "print(\"tensor gpu \", gpu_tensor.device)\n",
        "\n",
        "print(\"is tensor on gpu / cuda :\", matrix.is_cuda)\n",
        "print(\"is tensor on gpu / cuda :\", gpu_tensor.is_cuda)\n",
        "\n",
        "print(\"size :\", matrix.size())\n",
        "\n",
        "print(\"number of elements in tensor of matrix : \", matrix.numel() )"
      ],
      "metadata": {
        "colab": {
          "base_uri": "https://localhost:8080/"
        },
        "id": "SchAw1FBL3nM",
        "outputId": "9e04da20-bdff-4935-b700-84bb74867780"
      },
      "execution_count": 20,
      "outputs": [
        {
          "output_type": "stream",
          "name": "stdout",
          "text": [
            "data type of matrix  torch.float32\n",
            "tensor device CPU cpu\n",
            "tensor gpu  cuda:0\n",
            "is tensor on gpu / cuda : False\n",
            "is tensor on gpu / cuda : True\n",
            "size : torch.Size([2, 2])\n",
            "number of elements in tensor of matrix :  4\n"
          ]
        }
      ]
    },
    {
      "cell_type": "code",
      "source": [
        "!nvidia-smi\n"
      ],
      "metadata": {
        "colab": {
          "base_uri": "https://localhost:8080/"
        },
        "id": "mSlJuWSgMhQJ",
        "outputId": "f70a63bb-226a-4150-be41-59620c2f0fd2"
      },
      "execution_count": 15,
      "outputs": [
        {
          "output_type": "stream",
          "name": "stdout",
          "text": [
            "Sat Oct  4 17:11:20 2025       \n",
            "+-----------------------------------------------------------------------------------------+\n",
            "| NVIDIA-SMI 550.54.15              Driver Version: 550.54.15      CUDA Version: 12.4     |\n",
            "|-----------------------------------------+------------------------+----------------------+\n",
            "| GPU  Name                 Persistence-M | Bus-Id          Disp.A | Volatile Uncorr. ECC |\n",
            "| Fan  Temp   Perf          Pwr:Usage/Cap |           Memory-Usage | GPU-Util  Compute M. |\n",
            "|                                         |                        |               MIG M. |\n",
            "|=========================================+========================+======================|\n",
            "|   0  Tesla T4                       Off |   00000000:00:04.0 Off |                    0 |\n",
            "| N/A   57C    P0             29W /   70W |     104MiB /  15360MiB |      0%      Default |\n",
            "|                                         |                        |                  N/A |\n",
            "+-----------------------------------------+------------------------+----------------------+\n",
            "                                                                                         \n",
            "+-----------------------------------------------------------------------------------------+\n",
            "| Processes:                                                                              |\n",
            "|  GPU   GI   CI        PID   Type   Process name                              GPU Memory |\n",
            "|        ID   ID                                                               Usage      |\n",
            "|=========================================================================================|\n",
            "+-----------------------------------------------------------------------------------------+\n"
          ]
        }
      ]
    },
    {
      "cell_type": "code",
      "source": [],
      "metadata": {
        "id": "xZ4JuFuGHbUk"
      },
      "execution_count": null,
      "outputs": []
    }
  ]
}