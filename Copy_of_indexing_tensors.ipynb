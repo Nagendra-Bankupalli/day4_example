{
  "nbformat": 4,
  "nbformat_minor": 0,
  "metadata": {
    "colab": {
      "provenance": [],
      "authorship_tag": "ABX9TyP39h0bjs9N67wkbUYQoZiZ",
      "include_colab_link": true
    },
    "kernelspec": {
      "name": "python3",
      "display_name": "Python 3"
    },
    "language_info": {
      "name": "python"
    }
  },
  "cells": [
    {
      "cell_type": "markdown",
      "metadata": {
        "id": "view-in-github",
        "colab_type": "text"
      },
      "source": [
        "<a href=\"https://colab.research.google.com/github/Nagendra-Bankupalli/day4_example/blob/main/Copy_of_indexing_tensors.ipynb\" target=\"_parent\"><img src=\"https://colab.research.google.com/assets/colab-badge.svg\" alt=\"Open In Colab\"/></a>"
      ]
    },
    {
      "cell_type": "code",
      "execution_count": null,
      "metadata": {
        "id": "CMFwNuuf9TVQ"
      },
      "outputs": [],
      "source": [
        "# Accessing elements in a tensor\n",
        "\n",
        "'''\n",
        "tensor [ row, column]\n",
        "'''\n",
        "import torch"
      ]
    },
    {
      "cell_type": "code",
      "source": [
        "tensor = torch.tensor([\n",
        "                      [10,20,30],\n",
        "                      [40,50,60],\n",
        "                      [70,80,90]\n",
        "                      ])\n",
        "\n",
        "print(tensor.ndim) # print num of dimensions\n",
        "print(tensor.shape) # print shape\n",
        "\n"
      ],
      "metadata": {
        "colab": {
          "base_uri": "https://localhost:8080/"
        },
        "id": "nc1eeZ04-PcB",
        "outputId": "7f7c0a2d-7352-4bcd-eee3-905acc8f6e09"
      },
      "execution_count": null,
      "outputs": [
        {
          "output_type": "stream",
          "name": "stdout",
          "text": [
            "2\n",
            "torch.Size([3, 3])\n"
          ]
        }
      ]
    },
    {
      "cell_type": "code",
      "source": [
        "print(\"elemtn at (0,1)\", tensor[0,1])"
      ],
      "metadata": {
        "colab": {
          "base_uri": "https://localhost:8080/"
        },
        "id": "tyN_y_9B-jwp",
        "outputId": "f718f1ab-a1b6-4cd6-cd25-0e19d41a5c54"
      },
      "execution_count": null,
      "outputs": [
        {
          "output_type": "stream",
          "name": "stdout",
          "text": [
            "elemtn at (0,1) tensor(20)\n"
          ]
        }
      ]
    },
    {
      "cell_type": "code",
      "source": [
        "tensor[0] # complete row, first row"
      ],
      "metadata": {
        "colab": {
          "base_uri": "https://localhost:8080/"
        },
        "id": "ryXXnzrW_KhX",
        "outputId": "109b317b-77bd-41a1-b28a-7d732e8d039d"
      },
      "execution_count": null,
      "outputs": [
        {
          "output_type": "execute_result",
          "data": {
            "text/plain": [
              "tensor([10, 20, 30])"
            ]
          },
          "metadata": {},
          "execution_count": 9
        }
      ]
    },
    {
      "cell_type": "code",
      "source": [
        "tensor[:, 0] # first column"
      ],
      "metadata": {
        "colab": {
          "base_uri": "https://localhost:8080/"
        },
        "id": "18hFXsw3_VYZ",
        "outputId": "3e3b816f-dcd6-4ed1-8266-38cf80c27367"
      },
      "execution_count": null,
      "outputs": [
        {
          "output_type": "execute_result",
          "data": {
            "text/plain": [
              "tensor([10, 40, 70])"
            ]
          },
          "metadata": {},
          "execution_count": 10
        }
      ]
    },
    {
      "cell_type": "code",
      "source": [],
      "metadata": {
        "id": "JUjKsDM8_gEJ"
      },
      "execution_count": null,
      "outputs": []
    }
  ]
}