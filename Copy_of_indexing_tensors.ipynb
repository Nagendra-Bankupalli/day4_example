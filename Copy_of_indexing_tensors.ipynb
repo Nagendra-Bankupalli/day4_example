{
  "nbformat": 4,
  "nbformat_minor": 0,
  "metadata": {
    "colab": {
      "provenance": [],
      "authorship_tag": "ABX9TyMyN3XPceKcTqB7ty/fqFfo",
      "include_colab_link": true
    },
    "kernelspec": {
      "name": "python3",
      "display_name": "Python 3"
    },
    "language_info": {
      "name": "python"
    }
  },
  "cells": [
    {
      "cell_type": "markdown",
      "metadata": {
        "id": "view-in-github",
        "colab_type": "text"
      },
      "source": [
        "<a href=\"https://colab.research.google.com/github/Nagendra-Bankupalli/day4_example/blob/main/Copy_of_indexing_tensors.ipynb\" target=\"_parent\"><img src=\"https://colab.research.google.com/assets/colab-badge.svg\" alt=\"Open In Colab\"/></a>"
      ]
    },
    {
      "cell_type": "code",
      "execution_count": 3,
      "metadata": {
        "id": "CMFwNuuf9TVQ"
      },
      "outputs": [],
      "source": [
        "# Accessing elements in a tensor\n",
        "\n",
        "'''\n",
        "tensor [ row, column]\n",
        "'''\n",
        "import torch"
      ]
    },
    {
      "cell_type": "code",
      "source": [
        "tensor = torch.tensor([\n",
        "                      [10,20,30],\n",
        "                      [40,50,60],\n",
        "                      [70,80,90]\n",
        "                      ])\n",
        "\n",
        "print(tensor.ndim) # print num of dimensions\n",
        "print(tensor.shape) # print shape\n",
        "\n"
      ],
      "metadata": {
        "colab": {
          "base_uri": "https://localhost:8080/"
        },
        "id": "nc1eeZ04-PcB",
        "outputId": "a7f7b5a6-3e3e-4056-92f5-10675ebd0631"
      },
      "execution_count": 4,
      "outputs": [
        {
          "output_type": "stream",
          "name": "stdout",
          "text": [
            "2\n",
            "torch.Size([3, 3])\n"
          ]
        }
      ]
    },
    {
      "cell_type": "code",
      "source": [
        "print(\"elemtn at (0,1)\", tensor[0,1])"
      ],
      "metadata": {
        "colab": {
          "base_uri": "https://localhost:8080/"
        },
        "id": "tyN_y_9B-jwp",
        "outputId": "c54240c2-5111-45c9-b85d-7bc5b0172e82"
      },
      "execution_count": 5,
      "outputs": [
        {
          "output_type": "stream",
          "name": "stdout",
          "text": [
            "elemtn at (0,1) tensor(20)\n"
          ]
        }
      ]
    },
    {
      "cell_type": "code",
      "source": [
        "tensor[0] # complete row, first row"
      ],
      "metadata": {
        "colab": {
          "base_uri": "https://localhost:8080/"
        },
        "id": "ryXXnzrW_KhX",
        "outputId": "4dd1ea57-2a53-40f8-d8f9-acec394f03ed"
      },
      "execution_count": 6,
      "outputs": [
        {
          "output_type": "execute_result",
          "data": {
            "text/plain": [
              "tensor([10, 20, 30])"
            ]
          },
          "metadata": {},
          "execution_count": 6
        }
      ]
    },
    {
      "cell_type": "code",
      "source": [
        "tensor[:, 0] # first column"
      ],
      "metadata": {
        "colab": {
          "base_uri": "https://localhost:8080/"
        },
        "id": "18hFXsw3_VYZ",
        "outputId": "d9e94612-2c2c-4990-ae09-8e1838d2ae85"
      },
      "execution_count": 7,
      "outputs": [
        {
          "output_type": "execute_result",
          "data": {
            "text/plain": [
              "tensor([10, 40, 70])"
            ]
          },
          "metadata": {},
          "execution_count": 7
        }
      ]
    },
    {
      "cell_type": "code",
      "source": [
        "# slicing\n",
        "\n",
        "print(\"first two rows \\n \", tensor[:2])  # get first two rows"
      ],
      "metadata": {
        "id": "JUjKsDM8_gEJ",
        "colab": {
          "base_uri": "https://localhost:8080/"
        },
        "outputId": "6c6e62b1-9065-4d71-ee7d-40913e098ce4"
      },
      "execution_count": 9,
      "outputs": [
        {
          "output_type": "stream",
          "name": "stdout",
          "text": [
            "first two rows \n",
            "  tensor([[10, 20, 30],\n",
            "        [40, 50, 60]])\n"
          ]
        }
      ]
    },
    {
      "cell_type": "code",
      "source": [
        "# first two columns\n",
        "\n",
        "print(\"first two columns \\n\", tensor[:, :2])"
      ],
      "metadata": {
        "colab": {
          "base_uri": "https://localhost:8080/"
        },
        "id": "h1Zb1cOTAeUI",
        "outputId": "c9e6be3d-8c14-4eb5-e1fc-339b738cdd72"
      },
      "execution_count": 10,
      "outputs": [
        {
          "output_type": "stream",
          "name": "stdout",
          "text": [
            "first two columns \n",
            " tensor([[10, 20],\n",
            "        [40, 50],\n",
            "        [70, 80]])\n"
          ]
        }
      ]
    },
    {
      "cell_type": "code",
      "source": [
        "# print main matrix all rws  and columns\n",
        "print(tensor)"
      ],
      "metadata": {
        "colab": {
          "base_uri": "https://localhost:8080/"
        },
        "id": "hO8GHMKIA8F7",
        "outputId": "72677672-fb82-462f-d595-31c1ac79e2ed"
      },
      "execution_count": 11,
      "outputs": [
        {
          "output_type": "stream",
          "name": "stdout",
          "text": [
            "tensor([[10, 20, 30],\n",
            "        [40, 50, 60],\n",
            "        [70, 80, 90]])\n"
          ]
        }
      ]
    },
    {
      "cell_type": "code",
      "source": [
        "#\n",
        "print(tensor[1, 1:3])  # row-1 , column 1 to 2 only"
      ],
      "metadata": {
        "colab": {
          "base_uri": "https://localhost:8080/"
        },
        "id": "sRtR71sYBGeO",
        "outputId": "41e11628-2dd0-4436-a9f5-49803ad9f31d"
      },
      "execution_count": 14,
      "outputs": [
        {
          "output_type": "stream",
          "name": "stdout",
          "text": [
            "tensor([50, 60])\n"
          ]
        }
      ]
    },
    {
      "cell_type": "code",
      "source": [
        "# access specific value , fancy indexing\n",
        "# (0,1) -> 20\n",
        "# (2,2) -> 90\n",
        "tensor[[0,2], [1,2]]"
      ],
      "metadata": {
        "colab": {
          "base_uri": "https://localhost:8080/"
        },
        "id": "6C3s_sz5BZw6",
        "outputId": "cd0b903d-55b9-4858-b28d-82385e5e7fbb"
      },
      "execution_count": 18,
      "outputs": [
        {
          "output_type": "execute_result",
          "data": {
            "text/plain": [
              "tensor([20, 90])"
            ]
          },
          "metadata": {},
          "execution_count": 18
        }
      ]
    },
    {
      "cell_type": "code",
      "source": [
        "# boolean indexing , elments > mask => true else false\n",
        "\n",
        "mask = tensor > 50\n",
        "\n",
        "print(mask)\n",
        "\n",
        "print(tensor[mask])  # will print elemtns > 50"
      ],
      "metadata": {
        "colab": {
          "base_uri": "https://localhost:8080/"
        },
        "id": "xOEyLuztCPKD",
        "outputId": "2b1ea8b3-2361-4b47-8e22-0abb21019c5d"
      },
      "execution_count": 20,
      "outputs": [
        {
          "output_type": "stream",
          "name": "stdout",
          "text": [
            "tensor([[False, False, False],\n",
            "        [False, False,  True],\n",
            "        [ True,  True,  True]])\n",
            "tensor([60, 70, 80, 90])\n"
          ]
        }
      ]
    },
    {
      "cell_type": "code",
      "source": [
        "# chane/update the tensor values using index\n",
        "print(tensor)\n",
        "tensor[0,1] = 25\n",
        "print(tensor)\n"
      ],
      "metadata": {
        "colab": {
          "base_uri": "https://localhost:8080/"
        },
        "id": "xZpwQIpBCeUG",
        "outputId": "07332b17-8785-4788-a3e5-979980ca53fc"
      },
      "execution_count": 21,
      "outputs": [
        {
          "output_type": "stream",
          "name": "stdout",
          "text": [
            "tensor([[10, 20, 30],\n",
            "        [40, 50, 60],\n",
            "        [70, 80, 90]])\n",
            "tensor([[10, 25, 30],\n",
            "        [40, 50, 60],\n",
            "        [70, 80, 90]])\n"
          ]
        }
      ]
    },
    {
      "cell_type": "code",
      "source": [
        "tensor[:,0] = torch.tensor([100,200,300])\n",
        "print(tensor)"
      ],
      "metadata": {
        "colab": {
          "base_uri": "https://localhost:8080/"
        },
        "id": "uhXS_a1UDC3Y",
        "outputId": "37a45268-21c5-445e-fb84-e3c038bb02eb"
      },
      "execution_count": 24,
      "outputs": [
        {
          "output_type": "stream",
          "name": "stdout",
          "text": [
            "tensor([[100,  25,  30],\n",
            "        [200,  50,  60],\n",
            "        [300,  80,  90]])\n"
          ]
        }
      ]
    },
    {
      "cell_type": "code",
      "source": [
        "indices = torch.tensor([0,2])\n",
        "selected_rows = torch.index_select(tensor, dim=1, index=indices)\n",
        "print(selected_rows)\n"
      ],
      "metadata": {
        "colab": {
          "base_uri": "https://localhost:8080/"
        },
        "id": "b64mp313DS5r",
        "outputId": "70327bc1-0682-4e55-fa1b-f5b9a95ef42d"
      },
      "execution_count": 26,
      "outputs": [
        {
          "output_type": "stream",
          "name": "stdout",
          "text": [
            "tensor([[100,  30],\n",
            "        [200,  60],\n",
            "        [300,  90]])\n"
          ]
        }
      ]
    },
    {
      "cell_type": "code",
      "source": [
        "# using tensor with ssteps\n",
        "\n",
        "print(tensor[:, ::2])"
      ],
      "metadata": {
        "colab": {
          "base_uri": "https://localhost:8080/"
        },
        "id": "QCz4t8VoD9ZI",
        "outputId": "0444b2b4-a204-4f3b-970b-c42748935093"
      },
      "execution_count": 28,
      "outputs": [
        {
          "output_type": "stream",
          "name": "stdout",
          "text": [
            "tensor([[100,  30],\n",
            "        [200,  60],\n",
            "        [300,  90]])\n"
          ]
        }
      ]
    },
    {
      "cell_type": "code",
      "source": [
        "# flip\n",
        "\n",
        "torch.flip(tensor,dims=(0,))"
      ],
      "metadata": {
        "colab": {
          "base_uri": "https://localhost:8080/"
        },
        "id": "ex_BiqOuElNM",
        "outputId": "7be98f68-4f2c-4367-892d-e6746ea3f3c3"
      },
      "execution_count": 30,
      "outputs": [
        {
          "output_type": "execute_result",
          "data": {
            "text/plain": [
              "tensor([[300,  80,  90],\n",
              "        [200,  50,  60],\n",
              "        [100,  25,  30]])"
            ]
          },
          "metadata": {},
          "execution_count": 30
        }
      ]
    },
    {
      "cell_type": "code",
      "source": [],
      "metadata": {
        "id": "RGMrZKOhEqVj"
      },
      "execution_count": null,
      "outputs": []
    }
  ]
}