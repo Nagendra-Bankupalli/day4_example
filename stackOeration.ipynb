{
  "nbformat": 4,
  "nbformat_minor": 0,
  "metadata": {
    "colab": {
      "provenance": [],
      "authorship_tag": "ABX9TyOpEwGiniCYfPsRVb1SfyI2",
      "include_colab_link": true
    },
    "kernelspec": {
      "name": "python3",
      "display_name": "Python 3"
    },
    "language_info": {
      "name": "python"
    }
  },
  "cells": [
    {
      "cell_type": "markdown",
      "metadata": {
        "id": "view-in-github",
        "colab_type": "text"
      },
      "source": [
        "<a href=\"https://colab.research.google.com/github/Nagendra-Bankupalli/day4_example/blob/main/stackOeration.ipynb\" target=\"_parent\"><img src=\"https://colab.research.google.com/assets/colab-badge.svg\" alt=\"Open In Colab\"/></a>"
      ]
    },
    {
      "cell_type": "code",
      "execution_count": 1,
      "metadata": {
        "id": "7elrPpXJqQqh"
      },
      "outputs": [],
      "source": [
        "import torch\n"
      ]
    },
    {
      "cell_type": "code",
      "source": [
        "tensor_1 = torch.tensor([1,2,3])\n",
        "tensor_2 = torch.tensor([4,5,6])\n"
      ],
      "metadata": {
        "id": "A5Dk0hIlw_AV"
      },
      "execution_count": 2,
      "outputs": []
    },
    {
      "cell_type": "code",
      "source": [
        "print(tensor_1.ndim)\n",
        "print(tensor_1.size())"
      ],
      "metadata": {
        "colab": {
          "base_uri": "https://localhost:8080/"
        },
        "id": "KFoEP50sxNHI",
        "outputId": "3e5b9329-b179-4c04-a5db-eb1c1b63fb32"
      },
      "execution_count": 3,
      "outputs": [
        {
          "output_type": "stream",
          "name": "stdout",
          "text": [
            "1\n",
            "torch.Size([3])\n"
          ]
        }
      ]
    },
    {
      "cell_type": "code",
      "source": [
        "stack_tensor_dim_0 = torch.stack((tensor_1,tensor_2), dim=0)  # stack on row\n",
        "print(\"shape :\", stack_tensor_dim_0)\n",
        "print(stack_tensor_dim_0.shape)\n",
        "print( \" \")\n",
        "stack_tensor_dim_1 = torch.stack((tensor_1, tensor_2), dim=1)  # stack on column\n",
        "print(\"shape :\", stack_tensor_dim_1)\n",
        "print(stack_tensor_dim_1.shape)"
      ],
      "metadata": {
        "colab": {
          "base_uri": "https://localhost:8080/"
        },
        "id": "65eyjlIfxUxb",
        "outputId": "40eb3608-d8da-4a24-d5c3-6fbd9b2c9f0e"
      },
      "execution_count": 7,
      "outputs": [
        {
          "output_type": "stream",
          "name": "stdout",
          "text": [
            "shape : tensor([[1, 2, 3],\n",
            "        [4, 5, 6]])\n",
            "torch.Size([2, 3])\n",
            " \n",
            "shape : tensor([[1, 4],\n",
            "        [2, 5],\n",
            "        [3, 6]])\n",
            "torch.Size([3, 2])\n"
          ]
        }
      ]
    },
    {
      "cell_type": "code",
      "source": [
        " # more tensor stack up\n",
        "tensor_3 = torch.tensor([7,8,9])\n",
        "stack_tensor_dim_0_new = torch.stack((tensor_1,tensor_2,tensor_3), dim=0)  # stack on row\n",
        "print(\"shape :\", stack_tensor_dim_0_new)\n",
        "print(stack_tensor_dim_0_new.shape)"
      ],
      "metadata": {
        "colab": {
          "base_uri": "https://localhost:8080/"
        },
        "id": "24pPEVGixw5B",
        "outputId": "e0b21155-9f3f-4a23-cb8e-51450479eae8"
      },
      "execution_count": 8,
      "outputs": [
        {
          "output_type": "stream",
          "name": "stdout",
          "text": [
            "shape : tensor([[1, 2, 3],\n",
            "        [4, 5, 6],\n",
            "        [7, 8, 9]])\n",
            "torch.Size([3, 3])\n"
          ]
        }
      ]
    },
    {
      "cell_type": "code",
      "source": [
        "# stacking 2D tensors using stack function in dim=0\n",
        "\n",
        "tensor1 = torch.tensor([[1,2],[3,4]])\n",
        "tensor2 = torch.tensor([[5,6],[7,8]])\n",
        "\n",
        "stacked_tensor_2d = torch.stack((tensor1,tensor2), dim=0)\n",
        "print(\"shape :\", stacked_tensor_2d.shape)\n",
        "print(stacked_tensor_2d)\n",
        "print(stacked_tensor_2d.ndim)\n",
        "\n"
      ],
      "metadata": {
        "colab": {
          "base_uri": "https://localhost:8080/"
        },
        "id": "z-HgeX3pyqv6",
        "outputId": "647e6462-0389-43bc-cd6e-dc1058e3bcef"
      },
      "execution_count": 12,
      "outputs": [
        {
          "output_type": "stream",
          "name": "stdout",
          "text": [
            "shape : torch.Size([2, 2, 2])\n",
            "tensor([[[1, 2],\n",
            "         [3, 4]],\n",
            "\n",
            "        [[5, 6],\n",
            "         [7, 8]]])\n",
            "3\n"
          ]
        }
      ]
    },
    {
      "cell_type": "code",
      "source": [
        "# stacking 2D tensors using stack function in dim=1\n",
        "\n",
        "\n",
        "\n",
        "stacked_tensor_2d_d1 = torch.stack((tensor1,tensor2), dim=1)\n",
        "print(\"shape :\", stacked_tensor_2d_d1.shape)\n",
        "print(stacked_tensor_2d_d1)\n",
        "print(stacked_tensor_2d_d1.ndim)"
      ],
      "metadata": {
        "colab": {
          "base_uri": "https://localhost:8080/"
        },
        "id": "xAp2oAZazv3R",
        "outputId": "1e78059b-0081-4140-d551-792cd3e4b413"
      },
      "execution_count": 17,
      "outputs": [
        {
          "output_type": "stream",
          "name": "stdout",
          "text": [
            "shape : torch.Size([2, 2, 2])\n",
            "tensor([[[1, 2],\n",
            "         [5, 6]],\n",
            "\n",
            "        [[3, 4],\n",
            "         [7, 8]]])\n",
            "3\n"
          ]
        }
      ]
    },
    {
      "cell_type": "code",
      "source": [
        "# stacking 2D tensors using stack function in dim=2\n",
        "\n",
        "\n",
        "print(tensor1)\n",
        "print(tensor2)\n",
        "\n",
        "stacked_tensor_2d_d2 = torch.stack((tensor1,tensor2), dim=2)\n",
        "print(\"shape :\", stacked_tensor_2d_d2.shape)\n",
        "print(stacked_tensor_2d_d2)\n",
        "print(stacked_tensor_2d_d2.ndim)"
      ],
      "metadata": {
        "colab": {
          "base_uri": "https://localhost:8080/"
        },
        "id": "nPddJB5Z1DJY",
        "outputId": "e79ac24a-7c65-4870-d5c4-65ad0cd8cf26"
      },
      "execution_count": 20,
      "outputs": [
        {
          "output_type": "stream",
          "name": "stdout",
          "text": [
            "tensor([[1, 2],\n",
            "        [3, 4]])\n",
            "tensor([[5, 6],\n",
            "        [7, 8]])\n",
            "shape : torch.Size([2, 2, 2])\n",
            "tensor([[[1, 5],\n",
            "         [2, 6]],\n",
            "\n",
            "        [[3, 7],\n",
            "         [4, 8]]])\n",
            "3\n"
          ]
        }
      ]
    },
    {
      "cell_type": "code",
      "source": [
        "# [1,2]   ==> dim0 = [1,2], dim1 = 1\n",
        "# [[1,2]] ==> dim0 = [1,2], dim1 = 1,2 dim2 = 1, and 2"
      ],
      "metadata": {
        "id": "6crqOI9x1evN"
      },
      "execution_count": 21,
      "outputs": []
    },
    {
      "cell_type": "code",
      "source": [
        "## Concatnation operation , no change in dimension\n",
        "\n",
        "concatnated_tensor = torch.cat((tensor1,tensor2),dim=0)\n",
        "\n",
        "print(\"shape \", concatnated_tensor.shape)\n",
        "print(concatnated_tensor)\n",
        "print(concatnated_tensor.ndim)"
      ],
      "metadata": {
        "colab": {
          "base_uri": "https://localhost:8080/"
        },
        "id": "aEb7LN4N3NQL",
        "outputId": "da0a06af-604c-4e6a-84c0-49a409b1500a"
      },
      "execution_count": 23,
      "outputs": [
        {
          "output_type": "stream",
          "name": "stdout",
          "text": [
            "shape  torch.Size([4, 2])\n",
            "tensor([[1, 2],\n",
            "        [3, 4],\n",
            "        [5, 6],\n",
            "        [7, 8]])\n",
            "2\n"
          ]
        }
      ]
    },
    {
      "cell_type": "code",
      "source": [
        "concatnated_tensor = torch.cat((tensor1,tensor2),dim=1)\n",
        "\n",
        "print(\"shape \", concatnated_tensor.shape)\n",
        "print(concatnated_tensor)\n",
        "print(concatnated_tensor.ndim)"
      ],
      "metadata": {
        "colab": {
          "base_uri": "https://localhost:8080/"
        },
        "id": "AvRMJaHo3q1m",
        "outputId": "87d9834e-2781-4d1b-bfd0-30acd1593010"
      },
      "execution_count": 24,
      "outputs": [
        {
          "output_type": "stream",
          "name": "stdout",
          "text": [
            "shape  torch.Size([2, 4])\n",
            "tensor([[1, 2, 5, 6],\n",
            "        [3, 4, 7, 8]])\n",
            "2\n"
          ]
        }
      ]
    }
  ]
}