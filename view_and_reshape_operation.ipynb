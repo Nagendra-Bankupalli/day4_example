{
  "nbformat": 4,
  "nbformat_minor": 0,
  "metadata": {
    "colab": {
      "provenance": [],
      "authorship_tag": "ABX9TyNss6MxPgw04Gg7o2u6M1pK",
      "include_colab_link": true
    },
    "kernelspec": {
      "name": "python3",
      "display_name": "Python 3"
    },
    "language_info": {
      "name": "python"
    }
  },
  "cells": [
    {
      "cell_type": "markdown",
      "metadata": {
        "id": "view-in-github",
        "colab_type": "text"
      },
      "source": [
        "<a href=\"https://colab.research.google.com/github/Nagendra-Bankupalli/day4_example/blob/main/view_and_reshape_operation.ipynb\" target=\"_parent\"><img src=\"https://colab.research.google.com/assets/colab-badge.svg\" alt=\"Open In Colab\"/></a>"
      ]
    },
    {
      "cell_type": "code",
      "execution_count": 1,
      "metadata": {
        "id": "B2Btdirzg5AW"
      },
      "outputs": [],
      "source": [
        "import torch"
      ]
    },
    {
      "cell_type": "code",
      "source": [
        "tensor = torch.arange(12)\n",
        "\n",
        "reshaped_tensor_view = tensor.view(2,6)\n",
        "reshaped_tensor_reshape = tensor.reshape(2,6)\n",
        "\n",
        "print(reshaped_tensor_view)\n",
        "print(reshaped_tensor_reshape)\n",
        "\n",
        "print(reshaped_tensor_reshape.shape)\n"
      ],
      "metadata": {
        "colab": {
          "base_uri": "https://localhost:8080/"
        },
        "id": "BCMgnCtsjNsB",
        "outputId": "2a301a02-6169-4327-b76e-5c366daf2513"
      },
      "execution_count": 3,
      "outputs": [
        {
          "output_type": "stream",
          "name": "stdout",
          "text": [
            "tensor([[ 0,  1,  2,  3,  4,  5],\n",
            "        [ 6,  7,  8,  9, 10, 11]])\n",
            "tensor([[ 0,  1,  2,  3,  4,  5],\n",
            "        [ 6,  7,  8,  9, 10, 11]])\n",
            "torch.Size([2, 6])\n"
          ]
        }
      ]
    },
    {
      "cell_type": "code",
      "source": [
        "tensor.is_contiguous()"
      ],
      "metadata": {
        "colab": {
          "base_uri": "https://localhost:8080/"
        },
        "id": "vf0VFIztjkv4",
        "outputId": "2b304cd3-363f-4088-d0fb-6ecacfef46e5"
      },
      "execution_count": 4,
      "outputs": [
        {
          "output_type": "execute_result",
          "data": {
            "text/plain": [
              "True"
            ]
          },
          "metadata": {},
          "execution_count": 4
        }
      ]
    },
    {
      "cell_type": "code",
      "source": [
        "infered_shape = tensor.view(3, -1)\n",
        "print(infered_shape)\n",
        "print(infered_shape.shape)"
      ],
      "metadata": {
        "colab": {
          "base_uri": "https://localhost:8080/"
        },
        "id": "SlsdE8V-ju10",
        "outputId": "79c8e2e7-6b1d-4ff6-b963-7cbbd314b5f5"
      },
      "execution_count": 6,
      "outputs": [
        {
          "output_type": "stream",
          "name": "stdout",
          "text": [
            "tensor([[ 0,  1,  2,  3],\n",
            "        [ 4,  5,  6,  7],\n",
            "        [ 8,  9, 10, 11]])\n",
            "torch.Size([3, 4])\n"
          ]
        }
      ]
    },
    {
      "cell_type": "code",
      "source": [
        "tensor3d = torch.arange(24).reshape(2,3,4)\n",
        "print(tensor3d)"
      ],
      "metadata": {
        "colab": {
          "base_uri": "https://localhost:8080/"
        },
        "id": "WBMz1pFkj7F1",
        "outputId": "6a358ee3-9b06-4bf7-8a0b-045ba06d8070"
      },
      "execution_count": 7,
      "outputs": [
        {
          "output_type": "stream",
          "name": "stdout",
          "text": [
            "tensor([[[ 0,  1,  2,  3],\n",
            "         [ 4,  5,  6,  7],\n",
            "         [ 8,  9, 10, 11]],\n",
            "\n",
            "        [[12, 13, 14, 15],\n",
            "         [16, 17, 18, 19],\n",
            "         [20, 21, 22, 23]]])\n"
          ]
        }
      ]
    },
    {
      "cell_type": "code",
      "source": [
        "flatt = tensor3d.view(-1)\n",
        "print(flatt)\n",
        "print(flatt.shape)"
      ],
      "metadata": {
        "colab": {
          "base_uri": "https://localhost:8080/"
        },
        "id": "7O5DcEX1kTAa",
        "outputId": "589e5df2-2d1e-4acd-bdbd-023ebf78eeec"
      },
      "execution_count": 9,
      "outputs": [
        {
          "output_type": "stream",
          "name": "stdout",
          "text": [
            "tensor([ 0,  1,  2,  3,  4,  5,  6,  7,  8,  9, 10, 11, 12, 13, 14, 15, 16, 17,\n",
            "        18, 19, 20, 21, 22, 23])\n",
            "torch.Size([24])\n"
          ]
        }
      ]
    },
    {
      "cell_type": "code",
      "source": [
        "flatt.is_contiguous()"
      ],
      "metadata": {
        "colab": {
          "base_uri": "https://localhost:8080/"
        },
        "id": "Xxq-e3JfkrKR",
        "outputId": "9759bca1-0cd9-4140-aac5-98ef8db41cf4"
      },
      "execution_count": 10,
      "outputs": [
        {
          "output_type": "execute_result",
          "data": {
            "text/plain": [
              "True"
            ]
          },
          "metadata": {},
          "execution_count": 10
        }
      ]
    },
    {
      "cell_type": "code",
      "source": [
        "tensor2d = torch.arange(24).reshape(12,2)\n",
        "print(tensor2d)"
      ],
      "metadata": {
        "colab": {
          "base_uri": "https://localhost:8080/"
        },
        "id": "LPHWU6b-ku9R",
        "outputId": "0e8a9ead-c7e3-4755-ea28-127bc4a31a34"
      },
      "execution_count": 11,
      "outputs": [
        {
          "output_type": "stream",
          "name": "stdout",
          "text": [
            "tensor([[ 0,  1],\n",
            "        [ 2,  3],\n",
            "        [ 4,  5],\n",
            "        [ 6,  7],\n",
            "        [ 8,  9],\n",
            "        [10, 11],\n",
            "        [12, 13],\n",
            "        [14, 15],\n",
            "        [16, 17],\n",
            "        [18, 19],\n",
            "        [20, 21],\n",
            "        [22, 23]])\n"
          ]
        }
      ]
    },
    {
      "cell_type": "code",
      "source": [
        "tranpose_tensor = tensor2d.t()\n",
        "tranpose_tensor.is_contiguous()"
      ],
      "metadata": {
        "colab": {
          "base_uri": "https://localhost:8080/"
        },
        "id": "os3gqjGpk1_0",
        "outputId": "0431ceb9-26f0-4d90-d907-4182772624a5"
      },
      "execution_count": 12,
      "outputs": [
        {
          "output_type": "execute_result",
          "data": {
            "text/plain": [
              "False"
            ]
          },
          "metadata": {},
          "execution_count": 12
        }
      ]
    },
    {
      "cell_type": "code",
      "source": [
        "err = tranpose_tensor.reshape(6,4)\n",
        "print(err)\n",
        "print(err.shape)\n"
      ],
      "metadata": {
        "colab": {
          "base_uri": "https://localhost:8080/"
        },
        "id": "ZvvZqNjXlAJt",
        "outputId": "590fcbcb-1824-49a2-d34b-fb5c7f07ed01"
      },
      "execution_count": 14,
      "outputs": [
        {
          "output_type": "stream",
          "name": "stdout",
          "text": [
            "tensor([[ 0,  2,  4,  6],\n",
            "        [ 8, 10, 12, 14],\n",
            "        [16, 18, 20, 22],\n",
            "        [ 1,  3,  5,  7],\n",
            "        [ 9, 11, 13, 15],\n",
            "        [17, 19, 21, 23]])\n",
            "torch.Size([6, 4])\n"
          ]
        }
      ]
    },
    {
      "cell_type": "code",
      "source": [],
      "metadata": {
        "id": "V1HHdQ2rlVQp"
      },
      "execution_count": null,
      "outputs": []
    },
    {
      "cell_type": "code",
      "source": [],
      "metadata": {
        "id": "NJ79bwRpklTL"
      },
      "execution_count": null,
      "outputs": []
    }
  ]
}