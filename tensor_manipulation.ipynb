{
  "nbformat": 4,
  "nbformat_minor": 0,
  "metadata": {
    "colab": {
      "provenance": [],
      "authorship_tag": "ABX9TyM4JFQmf/DchABbcUKmJjPQ",
      "include_colab_link": true
    },
    "kernelspec": {
      "name": "python3",
      "display_name": "Python 3"
    },
    "language_info": {
      "name": "python"
    }
  },
  "cells": [
    {
      "cell_type": "markdown",
      "metadata": {
        "id": "view-in-github",
        "colab_type": "text"
      },
      "source": [
        "<a href=\"https://colab.research.google.com/github/Nagendra-Bankupalli/day4_example/blob/main/tensor_manipulation.ipynb\" target=\"_parent\"><img src=\"https://colab.research.google.com/assets/colab-badge.svg\" alt=\"Open In Colab\"/></a>"
      ]
    },
    {
      "cell_type": "code",
      "execution_count": 2,
      "metadata": {
        "colab": {
          "base_uri": "https://localhost:8080/",
          "height": 36
        },
        "id": "GYuNg3-v5izj",
        "outputId": "82596088-898a-449a-f375-466f48faa954"
      },
      "outputs": [
        {
          "output_type": "execute_result",
          "data": {
            "text/plain": [
              "'\\n- reshaping \\n- slicing \\n- joining or splitting \\n- transposing and permuting dimension\\n'"
            ],
            "application/vnd.google.colaboratory.intrinsic+json": {
              "type": "string"
            }
          },
          "metadata": {},
          "execution_count": 2
        }
      ],
      "source": [
        "# tensor manipulation\n",
        "'''\n",
        "- reshaping\n",
        "- slicing\n",
        "- joining or splitting\n",
        "- transposing and permuting dimension\n",
        "'''"
      ]
    },
    {
      "cell_type": "code",
      "source": [
        "\n",
        "import torch\n",
        "\n"
      ],
      "metadata": {
        "id": "2DPG4ZME6FOJ"
      },
      "execution_count": 3,
      "outputs": []
    },
    {
      "cell_type": "code",
      "source": [
        "# reshaping\n",
        "\n",
        "# reshape\n",
        "# view\n",
        "\n",
        "original_tensor = torch.arange(12)\n",
        "print(original_tensor)\n",
        "print(original_tensor.nelement())\n",
        "print(original_tensor.ndim)\n",
        "\n"
      ],
      "metadata": {
        "colab": {
          "base_uri": "https://localhost:8080/"
        },
        "id": "tNl6t2Gj6eln",
        "outputId": "e0f726ad-4b4b-4ed8-f528-8dd9fda9373c"
      },
      "execution_count": 4,
      "outputs": [
        {
          "output_type": "stream",
          "name": "stdout",
          "text": [
            "tensor([ 0,  1,  2,  3,  4,  5,  6,  7,  8,  9, 10, 11])\n",
            "12\n",
            "1\n"
          ]
        }
      ]
    },
    {
      "cell_type": "code",
      "source": [
        "# change this vector to 2x6 matrix\n",
        "# 2x6 --> 12\n",
        "\n",
        "reshaped_tensor = original_tensor.reshape(3,4)\n",
        "print(reshaped_tensor)\n",
        "print(reshaped_tensor.nelement())\n",
        "print(reshaped_tensor.ndim)"
      ],
      "metadata": {
        "colab": {
          "base_uri": "https://localhost:8080/"
        },
        "id": "zBkQRgYGBl6C",
        "outputId": "da17cd8d-595a-4536-bb0d-218aa900659b"
      },
      "execution_count": 5,
      "outputs": [
        {
          "output_type": "stream",
          "name": "stdout",
          "text": [
            "tensor([[ 0,  1,  2,  3],\n",
            "        [ 4,  5,  6,  7],\n",
            "        [ 8,  9, 10, 11]])\n",
            "12\n",
            "2\n"
          ]
        }
      ]
    },
    {
      "cell_type": "code",
      "source": [
        "# view\n",
        "print(original_tensor.is_contiguous())\n",
        "flatternd_tensor = original_tensor.view(-1)\n",
        "print(flatternd_tensor)\n"
      ],
      "metadata": {
        "colab": {
          "base_uri": "https://localhost:8080/"
        },
        "id": "1ATXcUDECMW9",
        "outputId": "8bb655d3-552e-407c-d69c-35f564bef2d2"
      },
      "execution_count": 6,
      "outputs": [
        {
          "output_type": "stream",
          "name": "stdout",
          "text": [
            "True\n",
            "tensor([ 0,  1,  2,  3,  4,  5,  6,  7,  8,  9, 10, 11])\n"
          ]
        }
      ]
    },
    {
      "cell_type": "code",
      "source": [
        "# slicing - extract specific portin of tensor\n",
        "\n",
        "tensor_a = torch.tensor([[1,2,3], [4,5,6],[7,8,9]])\n",
        "print(tensor_a)\n",
        "print(tensor_a.ndim)\n"
      ],
      "metadata": {
        "colab": {
          "base_uri": "https://localhost:8080/"
        },
        "id": "6cvYnBJqCtFD",
        "outputId": "ca4f4105-06d9-494a-bd37-94fea801219f"
      },
      "execution_count": 9,
      "outputs": [
        {
          "output_type": "stream",
          "name": "stdout",
          "text": [
            "tensor([[1, 2, 3],\n",
            "        [4, 5, 6],\n",
            "        [7, 8, 9]])\n",
            "2\n"
          ]
        }
      ]
    },
    {
      "cell_type": "code",
      "source": [
        "print(tensor_a[0])"
      ],
      "metadata": {
        "colab": {
          "base_uri": "https://localhost:8080/"
        },
        "id": "dQFfaI6yOXn2",
        "outputId": "4436dc93-a01a-4659-a49a-9773147aa4fb"
      },
      "execution_count": 10,
      "outputs": [
        {
          "output_type": "stream",
          "name": "stdout",
          "text": [
            "tensor([1, 2, 3])\n"
          ]
        }
      ]
    },
    {
      "cell_type": "code",
      "source": [
        "tensor_a[:,2]  # first column"
      ],
      "metadata": {
        "colab": {
          "base_uri": "https://localhost:8080/"
        },
        "id": "NttdLeXsOtxW",
        "outputId": "db9b2095-b012-4d20-cabb-de56d5cab7e0"
      },
      "execution_count": 14,
      "outputs": [
        {
          "output_type": "execute_result",
          "data": {
            "text/plain": [
              "tensor([3, 6, 9])"
            ]
          },
          "metadata": {},
          "execution_count": 14
        }
      ]
    },
    {
      "cell_type": "code",
      "source": [
        "print(tensor_a.shape)"
      ],
      "metadata": {
        "colab": {
          "base_uri": "https://localhost:8080/"
        },
        "id": "jJkpDeNPO8gw",
        "outputId": "5297b387-f4fe-4ecf-8317-6715324e02f8"
      },
      "execution_count": 15,
      "outputs": [
        {
          "output_type": "stream",
          "name": "stdout",
          "text": [
            "torch.Size([3, 3])\n"
          ]
        }
      ]
    },
    {
      "cell_type": "code",
      "source": [
        "# extract 2x2 from this 3x3 tensor\n",
        "\n",
        "sub_tensor = tensor_a[1:, 1:]\n",
        "print(sub_tensor)\n",
        "print(sub_tensor.shape)"
      ],
      "metadata": {
        "colab": {
          "base_uri": "https://localhost:8080/"
        },
        "id": "HletiYu5PI93",
        "outputId": "cada3eba-d0fe-4343-d57e-61e2244867af"
      },
      "execution_count": 19,
      "outputs": [
        {
          "output_type": "stream",
          "name": "stdout",
          "text": [
            "tensor([[5, 6],\n",
            "        [8, 9]])\n",
            "torch.Size([2, 2])\n"
          ]
        }
      ]
    },
    {
      "cell_type": "code",
      "source": [
        "# joining Tensors\n",
        "# torch.cat() =--> merges tesnsors along an existing dimension\n",
        "\n",
        "tensor1 = torch.tensor([[1,2],[3,4]])\n",
        "tensor2 = torch.tensor([[5,6],[7,8]])\n",
        "\n",
        "print(tensor1)\n",
        "print(tensor2)\n",
        "\n",
        "print(\"**\"*8)\n",
        "\n",
        "concat_tensr_r = torch.cat((tensor1,tensor2), dim=0)\n",
        "concat_tensr_c = torch.cat((tensor1,tensor2), dim=1)\n",
        "\n",
        "print(concat_tensr_r)\n",
        "print(concat_tensr_r.shape)\n",
        "print(concat_tensr_c)\n",
        "print(concat_tensr_c.shape)"
      ],
      "metadata": {
        "colab": {
          "base_uri": "https://localhost:8080/"
        },
        "id": "UHFEpMlVPoes",
        "outputId": "bdbe6dea-cbb4-4a2f-aa15-759297b0261a"
      },
      "execution_count": 22,
      "outputs": [
        {
          "output_type": "stream",
          "name": "stdout",
          "text": [
            "tensor([[1, 2],\n",
            "        [3, 4]])\n",
            "tensor([[5, 6],\n",
            "        [7, 8]])\n",
            "****************\n",
            "tensor([[1, 2],\n",
            "        [3, 4],\n",
            "        [5, 6],\n",
            "        [7, 8]])\n",
            "torch.Size([4, 2])\n",
            "tensor([[1, 2, 5, 6],\n",
            "        [3, 4, 7, 8]])\n",
            "torch.Size([2, 4])\n"
          ]
        }
      ]
    },
    {
      "cell_type": "code",
      "source": [
        "# stack --> creates new dimension , increases the ternsor Rank\n",
        "\n",
        "print(tensor1.shape)\n",
        "print(tensor2.shape)\n",
        "\n",
        "print(\"**\"*8)\n",
        "\n",
        "concat_tensr_r = torch.stack((tensor1,tensor2), dim=0)\n",
        "concat_tensr_c = torch.stack((tensor1,tensor2), dim=1)\n",
        "\n",
        "print(concat_tensr_r)\n",
        "print(concat_tensr_r.shape)\n",
        "print(concat_tensr_c)\n",
        "print(concat_tensr_c.shape)\n"
      ],
      "metadata": {
        "colab": {
          "base_uri": "https://localhost:8080/"
        },
        "id": "vL_1is2ORQVq",
        "outputId": "bd8f52c8-9527-4bb5-d1d8-f521cec1918d"
      },
      "execution_count": 23,
      "outputs": [
        {
          "output_type": "stream",
          "name": "stdout",
          "text": [
            "torch.Size([2, 2])\n",
            "torch.Size([2, 2])\n",
            "****************\n",
            "tensor([[[1, 2],\n",
            "         [3, 4]],\n",
            "\n",
            "        [[5, 6],\n",
            "         [7, 8]]])\n",
            "torch.Size([2, 2, 2])\n",
            "tensor([[[1, 2],\n",
            "         [5, 6]],\n",
            "\n",
            "        [[3, 4],\n",
            "         [7, 8]]])\n",
            "torch.Size([2, 2, 2])\n"
          ]
        }
      ]
    },
    {
      "cell_type": "code",
      "source": [
        "# split tensors\n",
        "\n",
        "# - torch.chunk() ---> divides your tensor into equal sized chunks\n",
        "# - torch.split() ---> allows eneven splitting based on size\n",
        "\n",
        "# torch.chunk()\n",
        "\n",
        "ori_tensor = torch.arange(12)\n",
        "\n",
        "chunks  = torch.chunk(ori_tensor, 5, dim=0)\n",
        "\n",
        "print(chunks)\n",
        "\n",
        "for chunk in chunks:\n",
        "  print(chunk)\n",
        "\n"
      ],
      "metadata": {
        "colab": {
          "base_uri": "https://localhost:8080/"
        },
        "id": "jDiPIhyyR_vy",
        "outputId": "522d9da2-80b7-4f74-b2c4-af4b8b9fd660"
      },
      "execution_count": 25,
      "outputs": [
        {
          "output_type": "stream",
          "name": "stdout",
          "text": [
            "(tensor([0, 1, 2]), tensor([3, 4, 5]), tensor([6, 7, 8]), tensor([ 9, 10, 11]))\n",
            "tensor([0, 1, 2])\n",
            "tensor([3, 4, 5])\n",
            "tensor([6, 7, 8])\n",
            "tensor([ 9, 10, 11])\n"
          ]
        }
      ]
    },
    {
      "cell_type": "code",
      "source": [
        "# torch.split()\n",
        "\n",
        "split  = torch.split(ori_tensor, 7, dim=0)\n",
        "\n",
        "print(split)\n",
        "\n",
        "for sp in split:\n",
        "  print(sp)"
      ],
      "metadata": {
        "colab": {
          "base_uri": "https://localhost:8080/"
        },
        "id": "_n8JCQ5wTwG0",
        "outputId": "fbd99c5b-1a2e-44b8-934a-437565b8a3f1"
      },
      "execution_count": 27,
      "outputs": [
        {
          "output_type": "stream",
          "name": "stdout",
          "text": [
            "(tensor([0, 1, 2, 3, 4, 5, 6]), tensor([ 7,  8,  9, 10, 11]))\n",
            "tensor([0, 1, 2, 3, 4, 5, 6])\n",
            "tensor([ 7,  8,  9, 10, 11])\n"
          ]
        }
      ]
    },
    {
      "cell_type": "code",
      "source": [
        "# transposing and permuting\n",
        "\n",
        "# transpose() --> swaps two dimensions --> nxm -> mxn\n",
        "\n",
        "# permute() --> rearrange all dimensions in the specified order\n",
        "\n",
        "tensor_org = torch.arange(24).reshape(12,2)\n",
        "\n",
        "transposed_tensor = tensor_org.transpose(0,1)\n",
        "\n",
        "print(tensor_org)\n",
        "print(transposed_tensor)"
      ],
      "metadata": {
        "colab": {
          "base_uri": "https://localhost:8080/"
        },
        "id": "jNvx4-2RUR3z",
        "outputId": "71d7d851-843a-419f-c5aa-a5c3f6e460d2"
      },
      "execution_count": 28,
      "outputs": [
        {
          "output_type": "stream",
          "name": "stdout",
          "text": [
            "tensor([[ 0,  1],\n",
            "        [ 2,  3],\n",
            "        [ 4,  5],\n",
            "        [ 6,  7],\n",
            "        [ 8,  9],\n",
            "        [10, 11],\n",
            "        [12, 13],\n",
            "        [14, 15],\n",
            "        [16, 17],\n",
            "        [18, 19],\n",
            "        [20, 21],\n",
            "        [22, 23]])\n",
            "tensor([[ 0,  2,  4,  6,  8, 10, 12, 14, 16, 18, 20, 22],\n",
            "        [ 1,  3,  5,  7,  9, 11, 13, 15, 17, 19, 21, 23]])\n"
          ]
        }
      ]
    },
    {
      "cell_type": "code",
      "source": [
        "# permute\n",
        "tensor_ori = torch.arange(24).reshape(2, 3, 4)\n",
        "\n",
        "print(tensor_ori)\n",
        "print(tensor_ori.shape)\n",
        "print(\"**\"*7)\n",
        "\n",
        "# [0,1,2]\n",
        "permuted_tensor = tensor_ori.permute(2,0,1) # [2,3,4] changed to [4,2,3]\n",
        "print(permuted_tensor)\n",
        "print(permuted_tensor.shape)"
      ],
      "metadata": {
        "colab": {
          "base_uri": "https://localhost:8080/"
        },
        "id": "4UAqPUyhVenw",
        "outputId": "3ef39dc9-cf9e-43e1-a7a0-6dc1af5c9650"
      },
      "execution_count": 32,
      "outputs": [
        {
          "output_type": "stream",
          "name": "stdout",
          "text": [
            "tensor([[[ 0,  1,  2,  3],\n",
            "         [ 4,  5,  6,  7],\n",
            "         [ 8,  9, 10, 11]],\n",
            "\n",
            "        [[12, 13, 14, 15],\n",
            "         [16, 17, 18, 19],\n",
            "         [20, 21, 22, 23]]])\n",
            "torch.Size([2, 3, 4])\n",
            "**************\n",
            "tensor([[[ 0,  4,  8],\n",
            "         [12, 16, 20]],\n",
            "\n",
            "        [[ 1,  5,  9],\n",
            "         [13, 17, 21]],\n",
            "\n",
            "        [[ 2,  6, 10],\n",
            "         [14, 18, 22]],\n",
            "\n",
            "        [[ 3,  7, 11],\n",
            "         [15, 19, 23]]])\n",
            "torch.Size([4, 2, 3])\n"
          ]
        }
      ]
    },
    {
      "cell_type": "code",
      "source": [
        "# cloning and detaching\n",
        "\n",
        "import copy\n",
        "\n",
        "a = [1,2,3]\n",
        "\n",
        "b = copy.deepcopy(a)\n",
        "\n",
        "print(a)\n",
        "print(b)"
      ],
      "metadata": {
        "colab": {
          "base_uri": "https://localhost:8080/"
        },
        "id": "qsjIb2npWg_g",
        "outputId": "72d58e5f-4c70-4fdc-8cbe-de8b31655230"
      },
      "execution_count": 33,
      "outputs": [
        {
          "output_type": "stream",
          "name": "stdout",
          "text": [
            "[1, 2, 3]\n",
            "[1, 2, 3]\n"
          ]
        }
      ]
    },
    {
      "cell_type": "code",
      "source": [
        "tensor = torch.ones(3,3, requires_grad=True) # part of computation graph\n",
        "\n",
        "cloned_tensor = tensor.clone() # part of computation graph\n",
        "\n",
        "detached_tensor = tensor.detach() # this code will detach tensor  from computation graph\n"
      ],
      "metadata": {
        "id": "jUTuCkY6X-nb"
      },
      "execution_count": null,
      "outputs": []
    }
  ]
}