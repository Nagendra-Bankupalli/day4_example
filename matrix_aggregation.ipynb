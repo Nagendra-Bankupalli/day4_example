{
  "nbformat": 4,
  "nbformat_minor": 0,
  "metadata": {
    "colab": {
      "provenance": [],
      "authorship_tag": "ABX9TyPe43Ow4jWRwtp7bhuS7ZNb",
      "include_colab_link": true
    },
    "kernelspec": {
      "name": "python3",
      "display_name": "Python 3"
    },
    "language_info": {
      "name": "python"
    }
  },
  "cells": [
    {
      "cell_type": "markdown",
      "metadata": {
        "id": "view-in-github",
        "colab_type": "text"
      },
      "source": [
        "<a href=\"https://colab.research.google.com/github/Nagendra-Bankupalli/day4_example/blob/main/matrix_aggregation.ipynb\" target=\"_parent\"><img src=\"https://colab.research.google.com/assets/colab-badge.svg\" alt=\"Open In Colab\"/></a>"
      ]
    },
    {
      "cell_type": "code",
      "execution_count": 1,
      "metadata": {
        "id": "dE1sRredZLP-"
      },
      "outputs": [],
      "source": [
        "import torch"
      ]
    },
    {
      "cell_type": "code",
      "source": [
        "matrix = torch.tensor([[1.,2.,3.],\n",
        "                       [4.,5.,6.],\n",
        "                       [7.,8.,9.],\n",
        "                       ])\n",
        "print(matrix)"
      ],
      "metadata": {
        "colab": {
          "base_uri": "https://localhost:8080/"
        },
        "id": "3YdKXTeTaaA8",
        "outputId": "3c5421cf-575f-43d6-c06a-69249a6a75d9"
      },
      "execution_count": 2,
      "outputs": [
        {
          "output_type": "stream",
          "name": "stdout",
          "text": [
            "tensor([[1., 2., 3.],\n",
            "        [4., 5., 6.],\n",
            "        [7., 8., 9.]])\n"
          ]
        }
      ]
    },
    {
      "cell_type": "code",
      "source": [
        "print(matrix.sum())"
      ],
      "metadata": {
        "colab": {
          "base_uri": "https://localhost:8080/"
        },
        "id": "-ob62m9Ha0nu",
        "outputId": "ef125b4b-2c7a-460c-f927-eb625f4a63f6"
      },
      "execution_count": 3,
      "outputs": [
        {
          "output_type": "stream",
          "name": "stdout",
          "text": [
            "tensor(45.)\n"
          ]
        }
      ]
    },
    {
      "cell_type": "code",
      "source": [
        "print(matrix.min())\n",
        "print(matrix.max())\n",
        "print(matrix.mean())\n"
      ],
      "metadata": {
        "colab": {
          "base_uri": "https://localhost:8080/"
        },
        "id": "E6HjtGcUa5zV",
        "outputId": "e601b6d6-4132-4a89-cc61-97b920413ff5"
      },
      "execution_count": 4,
      "outputs": [
        {
          "output_type": "stream",
          "name": "stdout",
          "text": [
            "tensor(1.)\n",
            "tensor(9.)\n",
            "tensor(5.)\n"
          ]
        }
      ]
    },
    {
      "cell_type": "code",
      "source": [
        "# dim=0 --> rows (across columns)\n",
        "# dim=1 --> columns (across rows)\n",
        "\n",
        "print(matrix.sum(dim=0))\n",
        "print(matrix.min(dim=0))\n",
        "print(matrix.max(dim=1))\n",
        "print(matrix.mean(dim=0))"
      ],
      "metadata": {
        "colab": {
          "base_uri": "https://localhost:8080/"
        },
        "id": "0Tghnm6XbBHM",
        "outputId": "0b76008d-b50d-49a9-89b5-f15e6041fffa"
      },
      "execution_count": 5,
      "outputs": [
        {
          "output_type": "stream",
          "name": "stdout",
          "text": [
            "tensor([12., 15., 18.])\n",
            "torch.return_types.min(\n",
            "values=tensor([1., 2., 3.]),\n",
            "indices=tensor([0, 0, 0]))\n",
            "torch.return_types.max(\n",
            "values=tensor([3., 6., 9.]),\n",
            "indices=tensor([2, 2, 2]))\n",
            "tensor([4., 5., 6.])\n"
          ]
        }
      ]
    },
    {
      "cell_type": "code",
      "source": [
        "# cumulative sum\n",
        "\n",
        "cum_sum = matrix.cumsum(dim=1)\n",
        "print(cum_sum)"
      ],
      "metadata": {
        "colab": {
          "base_uri": "https://localhost:8080/"
        },
        "id": "EflI_S1LbmwZ",
        "outputId": "b3894999-f2f1-4e76-bbe3-149338f72209"
      },
      "execution_count": 6,
      "outputs": [
        {
          "output_type": "stream",
          "name": "stdout",
          "text": [
            "tensor([[ 1.,  3.,  6.],\n",
            "        [ 4.,  9., 15.],\n",
            "        [ 7., 15., 24.]])\n"
          ]
        }
      ]
    },
    {
      "cell_type": "code",
      "source": [
        "# cumulative product\n",
        "cum_pro = matrix.cumprod(dim=0)\n",
        "print(cum_pro)\n"
      ],
      "metadata": {
        "colab": {
          "base_uri": "https://localhost:8080/"
        },
        "id": "AyXvqY68ccjM",
        "outputId": "0df9542d-8bb8-4bcd-846e-641682855e30"
      },
      "execution_count": 8,
      "outputs": [
        {
          "output_type": "stream",
          "name": "stdout",
          "text": [
            "tensor([[  1.,   2.,   3.],\n",
            "        [  4.,  10.,  18.],\n",
            "        [ 28.,  80., 162.]])\n"
          ]
        }
      ]
    },
    {
      "cell_type": "code",
      "source": [
        "# advance aggregation\n",
        "\n",
        "masked_matrix_sum = matrix[matrix>8].sum()\n",
        "print(masked_matrix_sum)"
      ],
      "metadata": {
        "colab": {
          "base_uri": "https://localhost:8080/"
        },
        "id": "7HM27nMicv1j",
        "outputId": "ff2db9a4-70e2-414d-f6c9-76273659d8c7"
      },
      "execution_count": 11,
      "outputs": [
        {
          "output_type": "stream",
          "name": "stdout",
          "text": [
            "tensor(9.)\n"
          ]
        }
      ]
    },
    {
      "cell_type": "code",
      "source": [
        "matrix = torch.tensor([[0.,0.,3.],\n",
        "                       [4.,5.,6.],\n",
        "                       [7.,8.,9.],\n",
        "                       ])\n",
        "\n",
        "non_zero = matrix.nonzero()\n",
        "print(non_zero)\n",
        "print(non_zero.shape)\n",
        "print(non_zero.size(0))"
      ],
      "metadata": {
        "colab": {
          "base_uri": "https://localhost:8080/"
        },
        "id": "at8ll13FdZel",
        "outputId": "7eaf5e8c-6afe-46b6-926e-e55bc46e429f"
      },
      "execution_count": 15,
      "outputs": [
        {
          "output_type": "stream",
          "name": "stdout",
          "text": [
            "tensor([[0, 2],\n",
            "        [1, 0],\n",
            "        [1, 1],\n",
            "        [1, 2],\n",
            "        [2, 0],\n",
            "        [2, 1],\n",
            "        [2, 2]])\n",
            "torch.Size([7, 2])\n",
            "7\n"
          ]
        }
      ]
    },
    {
      "cell_type": "code",
      "source": [
        "# normalize matrix\n",
        "\n",
        "matrix = torch.tensor([[0.,0.,3.],\n",
        "                       [4.,5.,6.],\n",
        "                       [7.,8.,9.],\n",
        "                       ])\n",
        "\n",
        "max_v = matrix.max()\n",
        "min_v = matrix.min()\n",
        "normalized_matrix = (matrix - min_v) / (max_v - min_v)\n",
        "\n",
        "print(normalized_matrix)\n"
      ],
      "metadata": {
        "colab": {
          "base_uri": "https://localhost:8080/"
        },
        "id": "APHOesDGdrex",
        "outputId": "141ef8f6-537e-4501-b629-e6ed8302d6ba"
      },
      "execution_count": 16,
      "outputs": [
        {
          "output_type": "stream",
          "name": "stdout",
          "text": [
            "tensor([[0.0000, 0.0000, 0.3333],\n",
            "        [0.4444, 0.5556, 0.6667],\n",
            "        [0.7778, 0.8889, 1.0000]])\n"
          ]
        }
      ]
    },
    {
      "cell_type": "code",
      "source": [],
      "metadata": {
        "id": "Ss7wM1SLeqow"
      },
      "execution_count": null,
      "outputs": []
    }
  ]
}